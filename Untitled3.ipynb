{
  "nbformat": 4,
  "nbformat_minor": 0,
  "metadata": {
    "colab": {
      "provenance": [],
      "authorship_tag": "ABX9TyML90lecQ8qNhqktJvIG4m6",
      "include_colab_link": true
    },
    "kernelspec": {
      "name": "python3",
      "display_name": "Python 3"
    },
    "language_info": {
      "name": "python"
    }
  },
  "cells": [
    {
      "cell_type": "markdown",
      "metadata": {
        "id": "view-in-github",
        "colab_type": "text"
      },
      "source": [
        "<a href=\"https://colab.research.google.com/github/anishanil05092008/my-own-game-3/blob/main/Untitled3.ipynb\" target=\"_parent\"><img src=\"https://colab.research.google.com/assets/colab-badge.svg\" alt=\"Open In Colab\"/></a>"
      ]
    },
    {
      "cell_type": "code",
      "execution_count": null,
      "metadata": {
        "colab": {
          "base_uri": "https://localhost:8080/"
        },
        "id": "nZ7MUalcAJqI",
        "outputId": "c7ee4eba-4e98-4b6e-954f-cd1b69a2ee2e"
      },
      "outputs": [
        {
          "output_type": "stream",
          "name": "stdout",
          "text": [
            "enter the lower range number4\n",
            "enter the upper range number40\n",
            "enter the number to be divided8\n",
            "8\n",
            "16\n",
            "24\n",
            "32\n",
            "40\n"
          ]
        }
      ],
      "source": [
        "lowerRange=int(input(\"enter the lower range number\"))\n",
        "upperRange=int(input(\"enter the upper range number\"))\n",
        "dividingNumber=int(input(\"enter the number to be divided\"))\n",
        "\n",
        "for i in range(lowerRange,upperRange+1):\n",
        "  if(i%dividingNumber==0):\n",
        "    print(i)"
      ]
    }
  ]
}