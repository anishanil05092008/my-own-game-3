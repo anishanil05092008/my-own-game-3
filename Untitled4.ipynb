{
  "nbformat": 4,
  "nbformat_minor": 0,
  "metadata": {
    "colab": {
      "provenance": [],
      "authorship_tag": "ABX9TyOdookVESXp6+3gLatONv52",
      "include_colab_link": true
    },
    "kernelspec": {
      "name": "python3",
      "display_name": "Python 3"
    },
    "language_info": {
      "name": "python"
    }
  },
  "cells": [
    {
      "cell_type": "markdown",
      "metadata": {
        "id": "view-in-github",
        "colab_type": "text"
      },
      "source": [
        "<a href=\"https://colab.research.google.com/github/anishanil05092008/my-own-game-3/blob/main/Untitled4.ipynb\" target=\"_parent\"><img src=\"https://colab.research.google.com/assets/colab-badge.svg\" alt=\"Open In Colab\"/></a>"
      ]
    },
    {
      "cell_type": "code",
      "execution_count": null,
      "metadata": {
        "colab": {
          "base_uri": "https://localhost:8080/"
        },
        "id": "yUsP1EQtErN5",
        "outputId": "646337be-2931-4571-95bc-4c5ae2c113b7"
      },
      "outputs": [
        {
          "output_type": "stream",
          "name": "stdout",
          "text": [
            "enter the year to be checked2016\n",
            "The given year isn't a leap year!\n"
          ]
        }
      ],
      "source": [
        "year=int(input(\"enter the year to be checked\"))\n",
        "\n",
        "if(year % 4 == 0 and year % 100 == 0 or year % 400==0):\n",
        "  print(\"The given year is a leap year\")\n",
        "else:\n",
        "  print(\"The given year isn't a leap year!\")  \n"
      ]
    }
  ]
}